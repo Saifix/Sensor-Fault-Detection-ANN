{
 "cells": [
  {
   "cell_type": "markdown",
   "metadata": {},
   "source": [
    "### Importing libraries"
   ]
  },
  {
   "cell_type": "code",
   "execution_count": 6,
   "metadata": {},
   "outputs": [],
   "source": [
    "import pyreadr\n",
    "import matplotlib.pyplot as plt\n",
    "import seaborn as sns\n",
    "import numpy as np\n",
    "import pandas as pd"
   ]
  },
  {
   "cell_type": "markdown",
   "metadata": {},
   "source": [
    "### Importing Dataset"
   ]
  },
  {
   "cell_type": "code",
   "execution_count": 7,
   "metadata": {},
   "outputs": [],
   "source": [
    "# Locating file in directories rather exposing the paths\n",
    "\n",
    "import os\n",
    "def search_file(start_dir, target_file):\n",
    "    for dirpath, dirnames, filenames in os.walk(start_dir):\n",
    "        if target_file in filenames:\n",
    "            #print(\"Found {} at: {}\".format(target_file, os.path.join(dirpath, target_file)))\n",
    "            return os.path.join(dirpath, target_file)\n",
    "    #print(\"File '{}' not found in '{}'\".format(target_file, start_dir))\n",
    "    return None\n",
    "\n",
    "start_dir = \"D:\\\\\" \n",
    "\n",
    "Fault_free_data =  search_file(start_dir, \"TEP_FaultFree_Training.RData\")\n",
    "Fault_data =  search_file(start_dir, \"TEP_Faulty_Training.RData\")"
   ]
  },
  {
   "cell_type": "code",
   "execution_count": 8,
   "metadata": {},
   "outputs": [],
   "source": [
    "df_FaultFree = pyreadr.read_r(Fault_free_data)['fault_free_training']\n",
    "df_Faulty = pyreadr.read_r(Fault_data)['faulty_training']"
   ]
  }
 ],
 "metadata": {
  "kernelspec": {
   "display_name": "base",
   "language": "python",
   "name": "python3"
  },
  "language_info": {
   "codemirror_mode": {
    "name": "ipython",
    "version": 3
   },
   "file_extension": ".py",
   "mimetype": "text/x-python",
   "name": "python",
   "nbconvert_exporter": "python",
   "pygments_lexer": "ipython3",
   "version": "3.10.10"
  }
 },
 "nbformat": 4,
 "nbformat_minor": 2
}
